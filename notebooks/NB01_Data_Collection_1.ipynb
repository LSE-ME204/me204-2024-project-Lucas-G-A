{
 "cells": [
  {
   "cell_type": "markdown",
   "metadata": {},
   "source": [
    "## DATA COLLECTION 1\n",
    "From 'https://www.whoscored.com/Statistics'"
   ]
  },
  {
   "cell_type": "markdown",
   "metadata": {},
   "source": [
    "Imports"
   ]
  },
  {
   "cell_type": "code",
   "execution_count": null,
   "metadata": {},
   "outputs": [],
   "source": [
    "import time\n",
    "import pandas as pd\n",
    "from selenium import webdriver\n",
    "from selenium.webdriver.chrome.service import Service\n",
    "from selenium.webdriver.common.by import By\n",
    "from selenium.webdriver.support.ui import WebDriverWait\n",
    "from selenium.webdriver.support import expected_conditions as EC\n",
    "from selenium.webdriver.chrome.options import Options"
   ]
  },
  {
   "cell_type": "markdown",
   "metadata": {},
   "source": [
    "Getting rid of cookies message and loading page"
   ]
  },
  {
   "cell_type": "code",
   "execution_count": null,
   "metadata": {},
   "outputs": [],
   "source": [
    "driver = webdriver.Chrome()\n",
    "driver.implicitly_wait(3)\n",
    "driver.get(\"https://www.whoscored.com/Statistics\")\n",
    "wait = WebDriverWait(driver, 5)\n",
    "accept_cookies_button = wait.until(\n",
    "        EC.element_to_be_clickable((By.CSS_SELECTOR, '#qc-cmp2-ui > div.qc-cmp2-footer.qc-cmp2-footer-overlay.qc-cmp2-footer-scrolled > div > button.css-1wc0q5e > span')))\n",
    "print(\"Cookies button found.\")\n",
    "accept_cookies_button.click()\n",
    "driver.implicitly_wait(10)\n",
    "wait.until(EC.invisibility_of_element((By.CSS_SELECTOR, '.accept-cookies')))\n",
    "print(\"Cookies pop-up clicked\")\n",
    "wait.until(\n",
    "        EC.presence_of_element_located((By.CSS_SELECTOR, '#top-team-stats-options > li:nth-child(1) > a'))\n",
    "    )"
   ]
  },
  {
   "cell_type": "markdown",
   "metadata": {},
   "source": [
    "Scrolling necessary for scraping"
   ]
  },
  {
   "cell_type": "code",
   "execution_count": null,
   "metadata": {},
   "outputs": [],
   "source": [
    "def scroll_to_percentage(percentage): #chatgpt\n",
    "    # Obtener la altura total del documento\n",
    "    total_height = driver.execute_script(\"return document.body.scrollHeight\")\n",
    "    # Calcular la altura del desplazamiento deseado\n",
    "    scroll_height = total_height * percentage\n",
    "    # Desplazar hasta esa altura\n",
    "    driver.execute_script(f\"window.scrollTo(0, {scroll_height});\")\n",
    "    time.sleep(3)  # Espera para asegurarse de que el contenido se cargue después del desplazamiento"
   ]
  },
  {
   "cell_type": "markdown",
   "metadata": {},
   "source": [
    "Method for extracting team data on the summary page"
   ]
  },
  {
   "cell_type": "code",
   "execution_count": null,
   "metadata": {},
   "outputs": [],
   "source": [
    "#Tu extract data, lo uso yo tambien\n",
    "def extract_data():\n",
    "    goals = []\n",
    "    shots = []\n",
    "    teams = []\n",
    "    league = []\n",
    "    possesion = []\n",
    "    pass_success = []\n",
    "    for i in range(1,21):\n",
    "        sel_teams = f'#top-team-stats-summary-content > tr:nth-child({i}) > td.col12-lg-2.col12-m-3.col12-s-4.col12-xs-5.grid-abs.overflow-text > a'\n",
    "        sel_shots = f'#top-team-stats-summary-content > tr:nth-child({i}) > td.shotsPerGame'\n",
    "        sel_goals = f'#top-team-stats-summary-content > tr:nth-child({i}) > td.goal'\n",
    "        sel_league = f'#top-team-stats-summary-content > tr:nth-child({i}) > td:nth-child(2) > a'\n",
    "        sel_possesion = f'#top-team-stats-summary-content > tr:nth-child({i}) > td.possession'\n",
    "        sel_pass_success = f'#top-team-stats-summary-content > tr:nth-child({i}) > td.passSuccess'\n",
    "        try:\n",
    "         # Getting every column \n",
    "            shots_element = wait.until(EC.presence_of_element_located((By.CSS_SELECTOR, sel_shots)))\n",
    "            goals_element = wait.until(EC.presence_of_element_located((By.CSS_SELECTOR, sel_goals)))\n",
    "            teams_element = wait.until(EC.presence_of_element_located((By.CSS_SELECTOR, sel_teams)))\n",
    "            league_element = wait.until(EC.presence_of_element_located((By.CSS_SELECTOR, sel_league)))\n",
    "            possesion_element = wait.until(EC.presence_of_element_located((By.CSS_SELECTOR, sel_possesion)))\n",
    "            pass_success_element = wait.until(EC.presence_of_element_located((By.CSS_SELECTOR, sel_pass_success)))\n",
    "        \n",
    "            goals.append(goals_element.text)\n",
    "            shots.append(shots_element.text)\n",
    "            teams.append(teams_element.text)\n",
    "            league.append(league_element.text)\n",
    "            possesion.append(possesion_element.text)\n",
    "            pass_success.append(pass_success_element.text)\n",
    "        except Exception as e:\n",
    "            print(f\"No se pudo encontrar el elemento con el selector {sel_shots}: {e}\")\n",
    "    return pd.DataFrame({ 'Teams':teams,\n",
    "                           'League':league,\n",
    "                    'Goals':goals,\n",
    "                   'Shots PG':shots,\n",
    "                   'Possesion %':possesion,\n",
    "                   'Pass Success%': pass_success\n",
    "                   })"
   ]
  },
  {
   "cell_type": "markdown",
   "metadata": {},
   "source": [
    "For loop for extracting each page of team data"
   ]
  },
  {
   "cell_type": "code",
   "execution_count": null,
   "metadata": {},
   "outputs": [],
   "source": [
    "df_summary = pd.DataFrame()\n",
    "\n",
    "for page_number in range(1, 6):  \n",
    "    if page_number > 1:  \n",
    "        scroll_to_percentage(0.3)\n",
    "        try:\n",
    "            next_button = wait.until(EC.element_to_be_clickable((By.CSS_SELECTOR, '#next')))\n",
    "            next_button.click()\n",
    "            wait.until(EC.presence_of_element_located((By.CSS_SELECTOR, '#top-team-stats-options > li:nth-child(1) > a')))\n",
    "            time.sleep(2)  # Asegúrate de que la página esté completamente cargada\n",
    "        except Exception as e:\n",
    "            print(f\"No se pudo hacer clic en el botón 'Next' o no se cargó la página: {e}\")\n",
    "            break \n",
    "\n",
    "    df_page = extract_data()\n",
    "    df_summary = pd.concat([df_summary, df_page], ignore_index=True)"
   ]
  },
  {
   "cell_type": "markdown",
   "metadata": {},
   "source": [
    "Fixing team names"
   ]
  },
  {
   "cell_type": "code",
   "execution_count": null,
   "metadata": {},
   "outputs": [],
   "source": [
    "df_summary['Teams'] = df_summary['Teams'].str.replace(r'^\\d+\\.\\s+', '',regex = True)"
   ]
  },
  {
   "cell_type": "markdown",
   "metadata": {},
   "source": [
    "Switching page to offensive stats"
   ]
  },
  {
   "cell_type": "code",
   "execution_count": null,
   "metadata": {},
   "outputs": [],
   "source": [
    "offensive_button = wait.until(EC.element_to_be_clickable((By.CSS_SELECTOR, '#top-team-stats-options > li:nth-child(3) > a')))\n",
    "offensive_button.click()"
   ]
  },
  {
   "cell_type": "markdown",
   "metadata": {},
   "source": [
    "Method for extracting offensive data for each team"
   ]
  },
  {
   "cell_type": "code",
   "execution_count": null,
   "metadata": {},
   "outputs": [],
   "source": [
    "def extract_offense():\n",
    "    links = [elem.get_attribute('href') for elem in wait.until(EC.presence_of_all_elements_located((By.CSS_SELECTOR, '#statistics-team-table-offensive .team-link')))]\n",
    "    teams = [elem.text for elem in wait.until(EC.presence_of_all_elements_located((By.CSS_SELECTOR, '#statistics-team-table-offensive .team-link')))]\n",
    "    leagues = [elem.text for elem in wait.until(EC.presence_of_all_elements_located((By.CSS_SELECTOR, '#statistics-team-table-offensive .tournament-link')))]\n",
    "    shots_ot_pg = [elem.text for elem in wait.until(EC.presence_of_all_elements_located((By.CSS_SELECTOR, '#statistics-team-table-offensive #top-team-stats-summary-content .shotOnTargetPerGame')))]\n",
    "    dribbles_won_pg = [elem.text for elem in wait.until(EC.presence_of_all_elements_located((By.CSS_SELECTOR, '#statistics-team-table-offensive #top-team-stats-summary-content .dribbleWonPerGame')))]\n",
    "    fouled_pg = [elem.text for elem in wait.until(EC.presence_of_all_elements_located((By.CSS_SELECTOR, '#statistics-team-table-offensive #top-team-stats-summary-content .foulGivenPerGame')))]\n",
    "\n",
    "    df_offensive = pd.DataFrame({\n",
    "        'Teams': teams,\n",
    "        'Links': links,\n",
    "        'League': leagues,\n",
    "        'Shots On Target PG': shots_ot_pg,\n",
    "        'Dribbles won PG': dribbles_won_pg,\n",
    "        'Fouled PG': fouled_pg,\n",
    "    })\n",
    "\n",
    "    return df_offensive"
   ]
  },
  {
   "cell_type": "markdown",
   "metadata": {},
   "source": [
    "For loop for extracting each page of offensive team data"
   ]
  },
  {
   "cell_type": "code",
   "execution_count": null,
   "metadata": {},
   "outputs": [],
   "source": [
    "#Los nexts y df del ofensivo\n",
    "df_offensive = pd.DataFrame()\n",
    "\n",
    "for page_number in range(1, 6):\n",
    "    if page_number > 1:\n",
    "        scroll_to_percentage(0.3)\n",
    "        try:\n",
    "            next_button = wait.until(EC.element_to_be_clickable((By.CSS_SELECTOR, '#statistics-team-paging-offensive #next')))\n",
    "            next_button.click()\n",
    "            wait.until(EC.presence_of_element_located((By.CSS_SELECTOR, '#top-team-stats-options > li:nth-child(1) > a')))\n",
    "            time.sleep(2)  # Asegúrate de que la página esté completamente cargada\n",
    "        except Exception as e:\n",
    "            print(f\"Could not click the 'Next' button or the page did not load: {e}\")\n",
    "            break\n",
    "        \n",
    "    # Extract data from the current page\n",
    "    df_page_off = extract_offense()\n",
    "    df_offensive = pd.concat([df_offensive, df_page_off], ignore_index=True)\n",
    "\n",
    "df_offensive"
   ]
  },
  {
   "cell_type": "markdown",
   "metadata": {},
   "source": [
    "Fixing team names"
   ]
  },
  {
   "cell_type": "code",
   "execution_count": null,
   "metadata": {},
   "outputs": [],
   "source": [
    "df_offensive['Teams'] = df_offensive['Teams'].str.replace(r'^\\d+\\.\\s+', '',regex = True)"
   ]
  },
  {
   "cell_type": "markdown",
   "metadata": {},
   "source": [
    "Switching page to defensive stats"
   ]
  },
  {
   "cell_type": "code",
   "execution_count": null,
   "metadata": {},
   "outputs": [],
   "source": [
    "defensive_button = wait.until(EC.element_to_be_clickable((By.CSS_SELECTOR, '#top-team-stats-options > li:nth-child(2) > a')))\n",
    "defensive_button.click()"
   ]
  },
  {
   "cell_type": "markdown",
   "metadata": {},
   "source": [
    "Method for extracting defensive team data"
   ]
  },
  {
   "cell_type": "code",
   "execution_count": null,
   "metadata": {},
   "outputs": [],
   "source": [
    "#El extract defensivo que si uso \n",
    "def extract_defensive():\n",
    "    shots_allowed = [elem.text for elem in wait.until(EC.presence_of_all_elements_located((By.CSS_SELECTOR, '#statistics-team-table-defensive #top-team-stats-summary-content .shotsConcededPerGame')))]\n",
    "    tackles = [elem.text for elem in wait.until(EC.presence_of_all_elements_located((By.CSS_SELECTOR, '#statistics-team-table-defensive #top-team-stats-summary-content .tacklePerGame')))]\n",
    "    teams_def = [elem.text for elem in wait.until(EC.presence_of_all_elements_located((By.CSS_SELECTOR, '#statistics-team-table-defensive .team-link')))]\n",
    "    league_def = [elem.text for elem in wait.until(EC.presence_of_all_elements_located((By.CSS_SELECTOR, '#statistics-team-table-defensive .tournament-link')))]\n",
    "    offsides = [elem.text for elem in wait.until(EC.presence_of_all_elements_located((By.CSS_SELECTOR, '#statistics-team-table-defensive #top-team-stats-summary-content .offsideGivenPerGame')))]\n",
    "    fouls = [elem.text for elem in wait.until(EC.presence_of_all_elements_located((By.CSS_SELECTOR, '#statistics-team-table-defensive #top-team-stats-summary-content  .foulsPerGame')))]\n",
    "    interceptions = [elem.text for elem in wait.until(EC.presence_of_all_elements_located((By.CSS_SELECTOR, '#statistics-team-table-defensive #top-team-stats-summary-content  .interceptionPerGame')))]\n",
    "    \n",
    "    df_defensive = pd.DataFrame({\n",
    "        'Teams': teams_def,\n",
    "        'League': league_def,\n",
    "        'Tackles': tackles,\n",
    "        'Shots Allowed PG': shots_allowed,\n",
    "        'Interceptions PG': interceptions,\n",
    "        'Offsides PG': offsides,\n",
    "        'Fouls PG': fouls\n",
    "    })\n",
    "\n",
    "    return df_defensive"
   ]
  },
  {
   "cell_type": "markdown",
   "metadata": {},
   "source": [
    "For loop for extracting each page of defensive team data"
   ]
  },
  {
   "cell_type": "code",
   "execution_count": null,
   "metadata": {},
   "outputs": [],
   "source": [
    "# Nexts y df del defensivo\n",
    "df_defensive = pd.DataFrame()\n",
    "\n",
    "for page_number in range(1, 6):\n",
    "    if page_number > 1:\n",
    "        scroll_to_percentage(0.3)\n",
    "        try:\n",
    "            next_button = wait.until(EC.element_to_be_clickable((By.CSS_SELECTOR, '#statistics-team-paging-defensive #next')))\n",
    "            next_button.click()\n",
    "            wait.until(EC.presence_of_element_located((By.CSS_SELECTOR, '#top-team-stats-options > li:nth-child(1) > a')))\n",
    "            time.sleep(2)  # Asegúrate de que la página esté completamente cargada\n",
    "        except Exception as e:\n",
    "            print(f\"Could not click the 'Next' button or the page did not load: {e}\")\n",
    "            break\n",
    "        \n",
    "    # Extract data from the current page\n",
    "    df_page_def = extract_defensive()\n",
    "    df_defensive = pd.concat([df_defensive, df_page_def], ignore_index=True)"
   ]
  },
  {
   "cell_type": "markdown",
   "metadata": {},
   "source": [
    "Fixing team names"
   ]
  },
  {
   "cell_type": "code",
   "execution_count": null,
   "metadata": {},
   "outputs": [],
   "source": [
    "df_defensive['Teams'] = df_defensive['Teams'].str.replace(r'^\\d+\\.\\s+', '',regex = True)"
   ]
  },
  {
   "cell_type": "markdown",
   "metadata": {},
   "source": [
    "Switching page to expected goals"
   ]
  },
  {
   "cell_type": "code",
   "execution_count": null,
   "metadata": {},
   "outputs": [],
   "source": [
    "xg_button = wait.until(EC.element_to_be_clickable((By.CSS_SELECTOR, '#top-team-stats-options > li:nth-child(4) > a')))\n",
    "xg_button.click()"
   ]
  },
  {
   "cell_type": "markdown",
   "metadata": {},
   "source": [
    "Method for extracting expected goals stats"
   ]
  },
  {
   "cell_type": "code",
   "execution_count": null,
   "metadata": {},
   "outputs": [],
   "source": [
    "def extract_XG():\n",
    "    teams = [elem.text for elem in wait.until(EC.presence_of_all_elements_located((By.CSS_SELECTOR, '#statistics-team-table-xg .team-link')))]\n",
    "    leagues = [elem.text for elem in wait.until(EC.presence_of_all_elements_located((By.CSS_SELECTOR, '#statistics-team-table-xg .tournament-link')))]\n",
    "    expected_goals = [elem.text for elem in wait.until(EC.presence_of_all_elements_located((By.CSS_SELECTOR, '#statistics-team-table-xg #top-team-stats-summary-content .xG')))]\n",
    "    expected_goals_dif= [elem.text for elem in wait.until(EC.presence_of_all_elements_located((By.CSS_SELECTOR, '#statistics-team-table-xg #top-team-stats-summary-content .xGDiff')))]\n",
    "    xg_per_shot = [elem.text for elem in wait.until(EC.presence_of_all_elements_located((By.CSS_SELECTOR, '#statistics-team-table-xg #top-team-stats-summary-content .xGPerShot')))]\n",
    "    df_xg = pd.DataFrame({\n",
    "        'Teams': teams,\n",
    "        'Leagues': leagues,\n",
    "        'Expected Goals': expected_goals,\n",
    "        'Diference between Exp Goals and Goals': expected_goals_dif,\n",
    "        'Expected Goals Per Shot': xg_per_shot\n",
    "    })\n",
    "\n",
    "    return df_xg"
   ]
  },
  {
   "cell_type": "markdown",
   "metadata": {},
   "source": [
    "Collecting every page of expected goals data for the teams"
   ]
  },
  {
   "cell_type": "code",
   "execution_count": null,
   "metadata": {},
   "outputs": [],
   "source": [
    "#Los nexts y df del xg\n",
    "df_xg = pd.DataFrame()\n",
    "\n",
    "for page_number in range(1, 6):\n",
    "    if page_number > 1:\n",
    "        scroll_to_percentage(0.3)\n",
    "        try:\n",
    "            next_button = wait.until(EC.element_to_be_clickable((By.CSS_SELECTOR, '#statistics-team-paging-xg #next')))\n",
    "            next_button.click()\n",
    "            time.sleep(3) \n",
    "            wait.until(EC.presence_of_element_located((By.CSS_SELECTOR, '#top-team-stats-options > li:nth-child(1) > a')))\n",
    "            time.sleep(3)  # Asegúrate de que la página esté completamente cargada\n",
    "        except Exception as e:\n",
    "            print(f\"Could not click the 'Next' button or the page did not load: {e}\")\n",
    "            break\n",
    "        \n",
    "    # Extract data from the current page\n",
    "    df_page_xg = extract_XG()\n",
    "    df_xg = pd.concat([df_xg, df_page_xg], ignore_index=True)\n",
    "\n",
    "df_xg"
   ]
  },
  {
   "cell_type": "code",
   "execution_count": null,
   "metadata": {},
   "outputs": [],
   "source": [
    "df_xg['Teams'] = df_xg['Teams'].str.replace(r'^\\d+\\.\\s+', '',regex = True)"
   ]
  }
 ],
 "metadata": {
  "kernelspec": {
   "display_name": "base",
   "language": "python",
   "name": "python3"
  },
  "language_info": {
   "name": "python",
   "version": "3.12.4"
  }
 },
 "nbformat": 4,
 "nbformat_minor": 2
}

{
 "cells": [
  {
   "cell_type": "code",
   "execution_count": null,
   "metadata": {},
   "outputs": [],
   "source": [
    "#For loop for each page of data\n",
    "df_summary = pd.DataFrame()\n",
    "\n",
    "for page_number in range(1, 6):  \n",
    "    if page_number > 1:  \n",
    "        scroll_to_percentage(0.3)\n",
    "        try:\n",
    "            next_button = wait.until(EC.element_to_be_clickable((By.CSS_SELECTOR, '#next')))\n",
    "            next_button.click()\n",
    "            wait.until(EC.presence_of_element_located((By.CSS_SELECTOR, '#top-team-stats-options > li:nth-child(1) > a')))\n",
    "            time.sleep(2)  # Asegúrate de que la página esté completamente cargada\n",
    "        except Exception as e:\n",
    "            print(f\"No se pudo hacer clic en el botón 'Next' o no se cargó la página: {e}\")\n",
    "            break \n",
    "\n",
    "    df_page = extract_data()\n",
    "    df_summary = pd.concat([df_summary, df_page], ignore_index=True)"
   ]
  },
  {
   "cell_type": "code",
   "execution_count": null,
   "metadata": {},
   "outputs": [],
   "source": [
    "#Los nexts y df del ofensivo\n",
    "df_offensive = pd.DataFrame()\n",
    "\n",
    "for page_number in range(1, 6):\n",
    "    if page_number > 1:\n",
    "        scroll_to_percentage(0.3)\n",
    "        try:\n",
    "            next_button = wait.until(EC.element_to_be_clickable((By.CSS_SELECTOR, '#statistics-team-paging-offensive #next')))\n",
    "            next_button.click()\n",
    "            wait.until(EC.presence_of_element_located((By.CSS_SELECTOR, '#top-team-stats-options > li:nth-child(1) > a')))\n",
    "            time.sleep(2)  # Asegúrate de que la página esté completamente cargada\n",
    "        except Exception as e:\n",
    "            print(f\"Could not click the 'Next' button or the page did not load: {e}\")\n",
    "            break\n",
    "        \n",
    "    # Extract data from the current page\n",
    "    df_page_off = extract_offense()\n",
    "    df_offensive = pd.concat([df_offensive, df_page_off], ignore_index=True)\n",
    "\n",
    "df_offensive"
   ]
  },
  {
   "cell_type": "code",
   "execution_count": null,
   "metadata": {},
   "outputs": [],
   "source": [
    "# Nexts y df del defensivo\n",
    "df_defensive = pd.DataFrame()\n",
    "\n",
    "for page_number in range(1, 6):\n",
    "    if page_number > 1:\n",
    "        scroll_to_percentage(0.3)\n",
    "        try:\n",
    "            next_button = wait.until(EC.element_to_be_clickable((By.CSS_SELECTOR, '#statistics-team-paging-defensive #next')))\n",
    "            next_button.click()\n",
    "            wait.until(EC.presence_of_element_located((By.CSS_SELECTOR, '#top-team-stats-options > li:nth-child(1) > a')))\n",
    "            time.sleep(2)  # Asegúrate de que la página esté completamente cargada\n",
    "        except Exception as e:\n",
    "            print(f\"Could not click the 'Next' button or the page did not load: {e}\")\n",
    "            break\n",
    "        \n",
    "    # Extract data from the current page\n",
    "    df_page_def = extract_defensive()\n",
    "    df_defensive = pd.concat([df_defensive, df_page_def], ignore_index=True)"
   ]
  }
 ],
 "metadata": {
  "language_info": {
   "name": "python"
  }
 },
 "nbformat": 4,
 "nbformat_minor": 2
}

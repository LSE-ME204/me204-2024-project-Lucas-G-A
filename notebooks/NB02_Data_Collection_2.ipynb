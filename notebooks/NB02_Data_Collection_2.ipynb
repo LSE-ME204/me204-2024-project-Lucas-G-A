{
 "cells": [
  {
   "cell_type": "markdown",
   "metadata": {},
   "source": [
    "## Data Collection 2"
   ]
  },
  {
   "cell_type": "markdown",
   "metadata": {},
   "source": [
    "Collecting players' data\n",
    "\n",
    "Imports"
   ]
  },
  {
   "cell_type": "code",
   "execution_count": null,
   "metadata": {},
   "outputs": [],
   "source": [
    "import time\n",
    "import pandas as pd\n",
    "from selenium import webdriver\n",
    "from selenium.webdriver.chrome.service import Service\n",
    "from selenium.webdriver.common.by import By\n",
    "from selenium.webdriver.support.ui import WebDriverWait\n",
    "from selenium.webdriver.support import expected_conditions as EC\n",
    "from selenium.webdriver.chrome.options import Options"
   ]
  },
  {
   "cell_type": "markdown",
   "metadata": {},
   "source": [
    "Removing cookies pop-up"
   ]
  },
  {
   "cell_type": "code",
   "execution_count": null,
   "metadata": {},
   "outputs": [],
   "source": [
    "driver = webdriver.Chrome()\n",
    "driver.implicitly_wait(3)\n",
    "driver.get(\"https://www.whoscored.com/Statistics\")\n",
    "wait = WebDriverWait(driver, 5)\n",
    "accept_cookies_button = wait.until(\n",
    "        EC.element_to_be_clickable((By.CSS_SELECTOR, '#qc-cmp2-ui > div.qc-cmp2-footer.qc-cmp2-footer-overlay.qc-cmp2-footer-scrolled > div > button.css-1wc0q5e > span')))\n",
    "print(\"Cookies button found.\")\n",
    "accept_cookies_button.click()\n",
    "driver.implicitly_wait(10)\n",
    "wait.until(EC.invisibility_of_element((By.CSS_SELECTOR, '.accept-cookies')))\n",
    "print(\"Cookies pop-up clicked\")\n",
    "wait.until(\n",
    "        EC.presence_of_element_located((By.CSS_SELECTOR, '#top-team-stats-options > li:nth-child(1) > a'))\n",
    "    )"
   ]
  },
  {
   "cell_type": "markdown",
   "metadata": {},
   "source": [
    "Scrolling necessary for scraping"
   ]
  },
  {
   "cell_type": "code",
   "execution_count": null,
   "metadata": {},
   "outputs": [],
   "source": [
    "def scroll_to_percentage(percentage): #chatgpt\n",
    "    total_height = driver.execute_script(\"return document.body.scrollHeight\")\n",
    "    scroll_height = total_height * percentage\n",
    "    driver.execute_script(f\"window.scrollTo(0, {scroll_height});\")\n",
    "    time.sleep(3)"
   ]
  },
  {
   "cell_type": "markdown",
   "metadata": {},
   "source": [
    "Extracting players data from the summary page"
   ]
  },
  {
   "cell_type": "code",
   "execution_count": null,
   "metadata": {},
   "outputs": [],
   "source": [
    "def extract_players():\n",
    "    player = [elem.text for elem in wait.until(EC.presence_of_all_elements_located((By.CSS_SELECTOR, '#statistics-table-summary .player-link span.iconize.iconize-icon-left')))]\n",
    "    team_link = [elem.get_attribute('href') for elem in wait.until(EC.presence_of_all_elements_located((By.CSS_SELECTOR, '#statistics-table-summary #player-table-statistics-body .col12-lg-2 a.player-meta-data')))]\n",
    "    mins = [elem.text for elem in wait.until(EC.presence_of_all_elements_located((By.CSS_SELECTOR, '#statistics-table-summary #player-table-statistics-body .minsPlayed')))]\n",
    "    goals = [elem.text for elem in wait.until(EC.presence_of_all_elements_located((By.CSS_SELECTOR, '#statistics-table-summary #player-table-statistics-body .goal')))]    \n",
    "    shots_pg = [elem.text for elem in wait.until(EC.presence_of_all_elements_located((By.CSS_SELECTOR, '#statistics-table-summary #player-table-statistics-body .shotsPerGame')))]\n",
    "    pass_success = [elem.text for elem in wait.until(EC.presence_of_all_elements_located((By.CSS_SELECTOR, '#statistics-table-summary #player-table-statistics-body .passSuccess')))]\n",
    "    assist = [elem.text for elem in wait.until(EC.presence_of_all_elements_located((By.CSS_SELECTOR, '#statistics-table-summary #player-table-statistics-body .assistTotal')))]\n",
    "    aerials_won = [elem.text for elem in wait.until(EC.presence_of_all_elements_located((By.CSS_SELECTOR, '#statistics-table-summary #player-table-statistics-body .aerialWonPerGame')))]\n",
    "    df_players = pd.DataFrame({\n",
    "        'Player Name': player,\n",
    "        'Team Link': team_link,\n",
    "        'Minutes Played': mins,\n",
    "        'Goals This Season': goals,\n",
    "        'Assist This Season': assist,\n",
    "        'Shots PG': shots_pg,\n",
    "        'Pass Success%': pass_success,\n",
    "        'Aerial Duels Won' : aerials_won\n",
    "    })\n",
    "\n",
    "    return df_players"
   ]
  },
  {
   "cell_type": "markdown",
   "metadata": {},
   "source": [
    "Switching the page to expected goals"
   ]
  },
  {
   "cell_type": "code",
   "execution_count": null,
   "metadata": {},
   "outputs": [],
   "source": [
    "xg_button = wait.until(EC.element_to_be_clickable((By.CSS_SELECTOR, '#top-player-stats-options > li:nth-child(5) > a')))\n",
    "xg_button.click()"
   ]
  },
  {
   "cell_type": "markdown",
   "metadata": {},
   "source": [
    "Getting every page of the players' data"
   ]
  },
  {
   "cell_type": "code",
   "execution_count": null,
   "metadata": {},
   "outputs": [],
   "source": [
    "df_players = pd.DataFrame()\n",
    "\n",
    "for page_number in range(1,149):\n",
    "    if page_number > 1:\n",
    "        scroll_to_percentage(0.55)\n",
    "        \n",
    "        try:\n",
    "            next_button = wait.until(EC.element_to_be_clickable((By.CSS_SELECTOR, '#statistics-paging-summary #next')))\n",
    "            next_button.click()\n",
    "            time.sleep(3)\n",
    "            wait.until(EC.presence_of_element_located((By.CSS_SELECTOR, '#top-team-stats-options > li:nth-child(1) > a')))\n",
    "            time.sleep(3)  # Asegúrate de que la página esté completamente cargada\n",
    "        except Exception as e:\n",
    "            print(f\"Could not click the 'Next' button or the page did not load: {e}\")     \n",
    "            break\n",
    "    # Extract data from the current page\n",
    "    df_page_players = extract_players()\n",
    "    df_players = pd.concat([df_players, df_page_players], ignore_index=True)\n",
    "\n",
    "df_players"
   ]
  },
  {
   "cell_type": "markdown",
   "metadata": {},
   "source": [
    "Getting each players expected goals"
   ]
  },
  {
   "cell_type": "code",
   "execution_count": null,
   "metadata": {},
   "outputs": [],
   "source": [
    "df_players_xg = pd.DataFrame()\n",
    "\n",
    "for page_number in range(1,149):\n",
    "    if page_number > 1:\n",
    "        scroll_to_percentage(0.55)\n",
    "        \n",
    "        try:\n",
    "            next_button = wait.until(EC.element_to_be_clickable((By.CSS_SELECTOR, '#statistics-paging-xg #next')))\n",
    "            next_button.click()\n",
    "            time.sleep(3)  # Asegúrate de que la página esté completamente cargada\n",
    "            wait.until(EC.presence_of_element_located((By.CSS_SELECTOR, '#top-team-stats-options > li:nth-child(1) > a')))\n",
    "            time.sleep(3)  # Asegúrate de que la página esté completamente cargada\n",
    "        except Exception as e:\n",
    "            print(f\"Could not click the 'Next' button or the page did not load: {e}\")\n",
    "            \n",
    "\n",
    "            break\n",
    "        \n",
    "    # Extract data from the current page\n",
    "    df_page_players_xg = extract_players_Xg()\n",
    "    df_players_xg = pd.concat([df_players_xg, df_page_players_xg], ignore_index=True)\n",
    "\n",
    "df_players_xg"
   ]
  },
  {
   "cell_type": "markdown",
   "metadata": {},
   "source": [
    "Cleaning players names"
   ]
  },
  {
   "cell_type": "code",
   "execution_count": null,
   "metadata": {},
   "outputs": [],
   "source": [
    "def clean_name(name):\n",
    "    return name.split('\\n')[-1]\n",
    "df_players_xg['Player Name'] = df_players_xg['Player Name'].apply(clean_name)"
   ]
  },
  {
   "cell_type": "code",
   "execution_count": null,
   "metadata": {},
   "outputs": [],
   "source": [
    "driver.quit()"
   ]
  }
 ],
 "metadata": {
  "kernelspec": {
   "display_name": "base",
   "language": "python",
   "name": "python3"
  },
  "language_info": {
   "name": "python",
   "version": "3.12.4"
  }
 },
 "nbformat": 4,
 "nbformat_minor": 2
}
